{
 "cells": [
  {
   "cell_type": "code",
   "execution_count": null,
   "id": "hindu-hamilton",
   "metadata": {},
   "outputs": [],
   "source": [
    "from joblib import logger\n",
    "import pandas as pd\n",
    "import transforms_distributed as tfd\n",
    "# import tc_distributed as tcd\n",
    "import tc_distributed_pro as tcdp\n",
    "from dask.distributed import LocalCluster, Client, progress\n",
    "from dask_jobqueue import HTCondorCluster\n",
    "import logging, coloredlogs\n",
    "import sys, os\n",
    "import copy\n",
    "import pathlib\n",
    "import warnings"
   ]
  },
  {
   "cell_type": "code",
   "execution_count": null,
   "metadata": {},
   "outputs": [],
   "source": [
    "dataset = 'data/SpectF.csv'\n",
    "datapath = 'result/' + dataset[5:-4]\n",
    "# dataset = 'data/R/Openml_586.csv'\n",
    "# datapath = 'result/R' + dataset[7:-4]\n",
    "\n",
    "logging.basicConfig(level=logging.ERROR)\n",
    "# logging.basicConfig(level=logging.ERROR, format='%(asctime)s - %(name)s - %(levelname)s - %(message)s')\n",
    "formatter = logging.Formatter('%(asctime)s - %(name)s - %(levelname)s - %(message)s')\n",
    "logger_new = logging.getLogger(__name__)\n",
    "output_file_handler = logging.FileHandler(\"log/output_\" + dataset[5:-3] + 'log')\n",
    "# output_file_handler = logging.FileHandler(\"log/R/output_\" + dataset[7:-3] + 'log')\n",
    "output_file_handler.setFormatter(formatter)\n",
    "logger_new.addHandler(output_file_handler)\n",
    "coloredlogs.install(level = 'DEBUG')\n",
    "pathlib.Path(datapath).mkdir(parents=True, exist_ok=True)\n",
    "warnings.filterwarnings(\"ignore\")\n",
    "\n",
    "repeat = 4\n",
    "una_oprs = tfd.unary_operators\n",
    "bina_oprs = tfd.binary_operators\n",
    "weights = [repeat] * (len(una_oprs) + len(bina_oprs))\n",
    "# import data\n",
    "dat = tcdp.load_data(dataset, logger=logger_new, art='C')\n",
    "# the number of next generation's features not over inflation*num_of_curr_gen to form an up-side-down pyramid structure\n",
    "# magic_number: inflation, cur_limit, total_limit, num_best_features\n",
    "inflation = 10\n",
    "cur_size = dat.shape[1]-1\n",
    "cur_limit = 150\n",
    "# total_limit can be much larger, which denpends on the device\n",
    "total_limit = 300\n",
    "num_best_features = round(2 * dat.shape[1])\n",
    "cur_dat = dat\n",
    "prev_gen = None"
   ]
  },
  {
   "cell_type": "code",
   "execution_count": null,
   "metadata": {},
   "outputs": [],
   "source": [
    "for i in range(repeat):\n",
    "    cur_dat, gen = tcdp.updateDat(cur_dat, prev_gen=prev_gen, oprs_weights=weights, art='C', logger=logger_new)\n",
    "    cur_gen, cur_size = tcdp.constrainFeaturesNum(cur_dat, min(inflation*cur_size, cur_limit), art='C', logger=logger_new)\n",
    "\n",
    "    prev_gen = pd.concat([prev_gen, gen], axis=1)\n",
    "    prev_gen[dat.columns[-1]] = dat.iloc[:, -1]\n",
    "    prev_gen, prev_size = tcdp.constrainFeaturesNum(prev_gen, total_limit, art='C', logger=logger_new)\n",
    "\n",
    "    cur_dat = tcdp.addInitalFeatures(cur_gen, prev_gen, dat, logger=logger_new)\n",
    "    cur_dat.to_csv(datapath + '/gen' + str(i+1) + '.csv')\n",
    "\n",
    "total_dat = pd.concat([prev_gen, cur_dat], axis=1)\n",
    "total_dat = tcdp.dropHighCorrelation(total_dat, logger=logger_new)\n",
    "total_dat[dat.columns[-1]] = dat.iloc[:, -1]\n",
    "# num_best_features = round(0.8 * total_dat.shape[1])\n",
    "best_features = tcdp.bestFeatures(total_dat, num_best_features, art='C', logger=logger_new)\n",
    "best_features.to_csv(datapath + '/final' + '.csv')\n",
    "\n",
    "init_fitness, cur_fitness = tcdp.scoreCompare(dat, best_features, art='C', logger=logger_new)\n",
    "increase = (cur_fitness - init_fitness) / init_fitness\n",
    "logger_new.debug(\"compared with the initial one, the fitness increased by %s\" %(str(increase)))"
   ]
  },
  {
   "source": [
    "## The Firs Version"
   ],
   "cell_type": "markdown",
   "metadata": {}
  },
  {
   "cell_type": "code",
   "execution_count": null,
   "id": "laden-budapest",
   "metadata": {},
   "outputs": [],
   "source": [
    "dataset = 'data/php0iVrYT.csv'\n",
    "datapath = 'result/' + dataset[5:-4]\n",
    "\n",
    "logging.basicConfig(level=logging.ERROR)\n",
    "# logging.basicConfig(level=logging.ERROR, format='%(asctime)s - %(name)s - %(levelname)s - %(message)s')\n",
    "formatter = logging.Formatter('%(asctime)s - %(name)s - %(levelname)s - %(message)s')\n",
    "logger_new = logging.getLogger(__name__)\n",
    "\n",
    "output_file_handler = logging.FileHandler(\"log/output2_\" + dataset[5:-3] + 'log')\n",
    "output_file_handler.setFormatter(formatter)\n",
    "logger_new.addHandler(output_file_handler)\n",
    "coloredlogs.install(level = 'DEBUG')\n",
    "\n",
    "# stdout_handler = logging.StreamHandler(sys.stdout)\n",
    "# stdout_handler.setFormatter(formatter)\n",
    "# logger_new.addHandler(stdout_handler)\n",
    "\n",
    "# cluster = LocalCluster(n_workers=4, threads_per_worker=2, memory_limit='2GB')\n",
    "# client = Client(cluster)"
   ]
  },
  {
   "cell_type": "code",
   "execution_count": null,
   "id": "generous-aurora",
   "metadata": {},
   "outputs": [],
   "source": [
    "una_oprs = tfd.unary_operators\n",
    "bina_oprs = tfd.binary_operators\n",
    "\n",
    "pathlib.Path(datapath).mkdir(parents=True, exist_ok=True)\n",
    "repeat = 5\n",
    "weights = [repeat] * (len(una_oprs) + len(bina_oprs))\n",
    "# load data\n",
    "dat = tcdp.load_data(dataset, logger=logger_new, art='C')\n",
    "cur_dat = dat\n",
    "prev_gen = None\n",
    "total_limit = 400\n",
    "prev_size = 0\n",
    "\n",
    "for i in range(repeat):\n",
    "    cur_dat.to_csv(datapath + '/gen' + str(i) + '.csv')\n",
    "    cur_dat = tcdp.update_dat(cur_dat, prev_gen=prev_gen, oprs_weights=weights, art='C', logger=logger_new)\n",
    "    cur_gen, prev_size = tcdp.pyramid_cur(cur_dat, prev_size, art='C', logger=logger_new)\n",
    "\n",
    "    prev_gen = pd.concat([prev_gen, cur_gen], axis=1)\n",
    "    # total_limit can be much larger, which denpends on the device\n",
    "    prev_gen[dat.columns[-1]] = dat.iloc[:, -1]\n",
    "    while prev_gen.shape[1] > total_limit:\n",
    "        logger.info('The number of prev_gen columns %d exceed prev_limit %d, columns selection first' % (prev_gen.shape[1], prev_limit))\n",
    "        prev_gen = tcdp.feature_selection(prev_gen, art=art, logger=logger)\n",
    "    prev_gen.drop(prev_gen.columns[-1], axis=1, inplace=True)\n",
    "\n",
    "    # add in intial features\n",
    "    if (i % 2):\n",
    "        cur_dat = pd.concat([cur_gen, dat], axis=1)\n",
    "    else :\n",
    "        cur_gen[dat.columns[-1]] = dat.iloc[:, -1]\n",
    "        cur_dat = cur_gen\n"
   ]
  },
  {
   "cell_type": "code",
   "execution_count": null,
   "id": "realistic-scoop",
   "metadata": {},
   "outputs": [],
   "source": []
  },
  {
   "cell_type": "code",
   "execution_count": null,
   "id": "impossible-burton",
   "metadata": {},
   "outputs": [],
   "source": [
    "# delete the first column of the data after read_csv\n",
    "cur_dat = pd.read_csv('result/curr_php0iVrYT.csv')\n",
    "cur_dat.drop(cur_dat.columns[0], axis=1, inplace=True)\n",
    "cur_gen = pd.DataFrame(cur_dat.iloc[:, :-1], columns=cur_dat.columns[:-1])\n",
    "# print(cur_gen)\n",
    "prev_dat = pd.read_csv('result/prev_php0iVrYT.csv')\n",
    "prev_gen = prev_dat.drop(prev_dat.columns[0], axis=1, inplace=False)\n",
    "# prev_gen"
   ]
  },
  {
   "cell_type": "code",
   "execution_count": null,
   "id": "numeric-fishing",
   "metadata": {
    "tags": [
     "outputPrepend"
    ]
   },
   "outputs": [],
   "source": [
    "for i in range(3):\n",
    "    cur_dat, prev_gen = tcd.update_dat(cur_dat, prev_gen=prev_gen, logger=logger_new)\n",
    "    cur_dat.to_csv('result/curr_' + dataset[5:])\n",
    "    prev_gen.to_csv('result/prev_' + dataset[5:])\n",
    "logger_new.warning('+Successfully finish all steps')"
   ]
  }
 ],
 "metadata": {
  "kernelspec": {
   "name": "python378jvsc74a57bd0363df266ed0c37ae0591ebb47ff23cc623879955e46c8735a7069950da10fb5c",
   "display_name": "Python 3.7.8 64-bit"
  },
  "language_info": {
   "codemirror_mode": {
    "name": "ipython",
    "version": 3
   },
   "file_extension": ".py",
   "mimetype": "text/x-python",
   "name": "python",
   "nbconvert_exporter": "python",
   "pygments_lexer": "ipython3",
   "version": "3.7.8-final"
  },
  "metadata": {
   "interpreter": {
    "hash": "363df266ed0c37ae0591ebb47ff23cc623879955e46c8735a7069950da10fb5c"
   }
  }
 },
 "nbformat": 4,
 "nbformat_minor": 5
}