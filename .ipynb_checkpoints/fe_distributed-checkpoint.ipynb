{
 "cells": [
  {
   "cell_type": "code",
   "execution_count": 1,
   "id": "shared-population",
   "metadata": {},
   "outputs": [],
   "source": [
    "import pandas as pd\n",
    "import tc_distributed as tcd\n",
    "from dask.distributed import LocalCluster, Client, progress\n",
    "from dask_jobqueue import HTCondorCluster\n",
    "import logging, coloredlogs\n",
    "import sys, os\n",
    "import copy"
   ]
  },
  {
   "cell_type": "code",
   "execution_count": 2,
   "id": "particular-arthritis",
   "metadata": {},
   "outputs": [],
   "source": [
    "dataset = 'data/php0iVrYT.csv'\n",
    "\n",
    "logging.basicConfig(level=logging.ERROR)\n",
    "# logging.basicConfig(level=logging.ERROR, format='%(asctime)s - %(name)s - %(levelname)s - %(message)s')\n",
    "formatter = logging.Formatter('%(asctime)s - %(name)s - %(levelname)s - %(message)s')\n",
    "logger_new = logging.getLogger(__name__)\n",
    "\n",
    "output_file_handler = logging.FileHandler(\"log/output_\" + dataset[5:-3] + 'log')\n",
    "output_file_handler.setFormatter(formatter)\n",
    "logger_new.addHandler(output_file_handler)\n",
    "coloredlogs.install(level = 'DEBUG')\n",
    "\n",
    "# stdout_handler = logging.StreamHandler(sys.stdout)\n",
    "# stdout_handler.setFormatter(formatter)\n",
    "# logger_new.addHandler(stdout_handler)\n",
    "\n",
    "# cluster = LocalCluster(n_workers=4, threads_per_worker=2, memory_limit='2GB')\n",
    "# client = Client(cluster)"
   ]
  },
  {
   "cell_type": "code",
   "execution_count": null,
   "id": "virtual-arcade",
   "metadata": {},
   "outputs": [],
   "source": [
    "cur_dat = tcd.load_data(dataset, logger=logger_new, art='C')\n",
    "prev_g = None\n",
    "for i in range(4):\n",
    "    cur_dat, prev_g = tcd.update_dat(cur_dat, prev_gen=prev_g, logger=logger_new)\n",
    "    cur_dat.to_csv('result/curr_' + dataset[5:])\n",
    "    prev_g.to_csv('result/prev_' + dataset[5:])\n",
    "logger_new.warning('+Successfully finish all steps')"
   ]
  }
 ],
 "metadata": {
  "kernelspec": {
   "display_name": "Python 3",
   "language": "python",
   "name": "python3"
  },
  "language_info": {
   "codemirror_mode": {
    "name": "ipython",
    "version": 3
   },
   "file_extension": ".py",
   "mimetype": "text/x-python",
   "name": "python",
   "nbconvert_exporter": "python",
   "pygments_lexer": "ipython3",
   "version": "3.7.8"
  }
 },
 "nbformat": 4,
 "nbformat_minor": 5
}
