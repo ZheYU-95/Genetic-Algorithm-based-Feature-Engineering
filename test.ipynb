{
 "cells": [
  {
   "cell_type": "code",
   "execution_count": 3,
   "metadata": {
    "scrolled": true
   },
   "outputs": [],
   "source": [
    "import copy\n",
    "import numpy as np\n",
    "import pandas as pd\n",
    "import dask.array as da\n",
    "import dask.bag as db\n",
    "import dask.dataframe as dd\n",
    "from dask import delayed, compute\n",
    "from dask.datasets import timeseries\n",
    "# import tc_distributed as tcd\n",
    "import tc_distributed_pro as tcdp\n",
    "import transforms_distributed as tfd\n",
    "from sklearn.feature_selection import SelectKBest\n",
    "from sklearn.feature_selection import mutual_info_classif, mutual_info_regression\n",
    "from sklearn.ensemble import RandomForestClassifier, RandomForestRegressor\n",
    "from boruta import BorutaPy\n",
    "\n",
    "una_oprs = tfd.unary_operators\n",
    "bina_oprs = tfd.binary_operators\n",
    "oprs_list = [una_oprs, bina_oprs]"
   ]
  },
  {
   "cell_type": "code",
   "execution_count": null,
   "metadata": {},
   "outputs": [],
   "source": []
  },
  {
   "cell_type": "markdown",
   "metadata": {},
   "source": [
    "### 对代码的一系列简化测试"
   ]
  },
  {
   "cell_type": "code",
   "execution_count": 17,
   "metadata": {},
   "outputs": [
    {
     "output_type": "stream",
     "name": "stdout",
     "text": [
      "      (((V3_ln-V1_zscore)+(V3_ln-V4_zscore))+((V1+V2)_cos*(V1_cos+(V2/V4))))_adde  \\\n0                                             18.256592                             \n1                                             17.209616                             \n2                                             16.915390                             \n3                                             13.675027                             \n4                                             16.301434                             \n...                                                 ...                             \n1135                                          17.633575                             \n1136                                          18.994880                             \n1137                                          18.647648                             \n1138                                          15.802334                             \n1139                                          19.459675                             \n\n      (((V3*V4)_cos*(V1_cos+(V2/V4)))*(V4_sin*V4_rbfFeature))_degree  \\\n0                                              3.838676                \n1                                             -1.767918                \n2                                            -15.366315                \n3                                              2.675448                \n4                                              2.343536                \n...                                                 ...                \n1135                                          -6.547687                \n1136                                           2.890547                \n1137                                           2.813162                \n1138                                           1.859992                \n1139                                           0.000804                \n\n      (((V3_ln-V1_zscore)+(V3_ln-V4_zscore))+((V1+V2)_cos*(V1_cos+(V2/V4))))_degree  \\\n0                                             890.27960                               \n1                                             830.29224                               \n2                                             813.43430                               \n3                                             627.77520                               \n4                                             778.25720                               \n...                                                 ...                               \n1135                                          854.58330                               \n1136                                          932.58030                               \n1137                                          912.68540                               \n1138                                          749.66095                               \n1139                                          959.21120                               \n\n      ((((V2/V4)/V4)*(V1-V2))+((V1*V4)_cos*V1_radian_rbfFeature))_negative  \\\n0                                              0.244408                      \n1                                             -0.215223                      \n2                                             -0.109368                      \n3                                             -0.059483                      \n4                                             -0.057175                      \n...                                                 ...                      \n1135                                           0.058468                      \n1136                                           0.085558                      \n1137                                           0.078601                      \n1138                                          -0.389906                      \n1139                                           0.321645                      \n\n      (((V1*V4)_cos*V1_radian_rbfFeature)/(V1_cos-(V1+V2)))_negative  \\\n0                                             -0.028243                \n1                                              0.019004                \n2                                              0.002498                \n3                                              0.000050                \n4                                              0.001171                \n...                                                 ...                \n1135                                          -0.006027                \n1136                                          -0.001765                \n1137                                          -0.003862                \n1138                                           0.040954                \n1139                                          -0.016773                \n\n      (((V3_ln-V1_zscore)+(V3_ln-V4_zscore))+(V1_negative_rbfFeature*(V4_sin+V4_sigmoid)))_negative  \\\n0                                            -15.621494                                               \n1                                            -14.488711                                               \n2                                            -14.407220                                               \n3                                            -10.656921                                               \n4                                            -13.910221                                               \n...                                                 ...                                               \n1135                                         -15.619872                                               \n1136                                         -16.799440                                               \n1137                                         -15.747964                                               \n1138                                         -13.169804                                               \n1139                                         -16.741148                                               \n\n      ((((V2/V4)_tanh/V1_zscore)/(V4_sin_square*(V4_radian/V3)))/(V1_degree+V4_sin))  \\\n0                                           -149.386610                                \n1                                             -1.639422                                \n2                                              4.650953                                \n3                                              0.696969                                \n4                                            -31.974190                                \n...                                                 ...                                \n1135                                          -3.413967                                \n1136                                         -19.952484                                \n1137                                         -21.758652                                \n1138                                         -41.901264                                \n1139                                     -305973.750000                                \n\n      (((V4_rbfFeature_cos-V4_sin_square)+((V4_sigmoid/(V2/V4))+(V1_adde-V3_ln)))/((V2/V4)_tanh_rbfFeature+((V1_square/(V3*V4))+(V1_radian-(V2/V4)))))  \\\n0                                             -1.354235                                                                                                  \n1                                            445.452060                                                                                                  \n2                                            -80.081570                                                                                                  \n3                                             81.296486                                                                                                  \n4                                            -94.635450                                                                                                  \n...                                                 ...                                                                                                  \n1135                                         -20.650429                                                                                                  \n1136                                          -4.624571                                                                                                  \n1137                                          -4.544328                                                                                                  \n1138                                          -2.193990                                                                                                  \n1139                                          -1.126985                                                                                                  \n\n      ((((V2/V4)_tanh/V1_zscore)/(V4_sin_square*(V4_radian/V3)))/((V1_cos-(V2/V4))*(V1_radian-(V2/V4))))  \\\n0                                         -2.218430e+04                                                    \n1                                         -9.578684e+03                                                    \n2                                         -7.155996e+04                                                    \n3                                         -2.888599e+03                                                    \n4                                         -5.499384e+04                                                    \n...                                                 ...                                                    \n1135                                      -5.961627e+03                                                    \n1136                                      -1.386800e+04                                                    \n1137                                      -1.164509e+04                                                    \n1138                                      -1.135814e+04                                                    \n1139                                      -1.135373e+08                                                    \n\n      (((V1*V4)_cos*V1_radian_rbfFeature)_adde/((V2/V4)_tanh_rbfFeature*(V4_sin_square/(V2/V4)_tanh)))  \\\n0                                             46.811596                                                  \n1                                              5.306844                                                  \n2                                            -20.575415                                                  \n3                                             22.932360                                                  \n4                                             39.101900                                                  \n...                                                 ...                                                  \n1135                                          -5.336129                                                  \n1136                                          17.119976                                                  \n1137                                         429.717600                                                  \n1138                                        -234.608780                                                  \n1139                                      168297.620000                                                  \n\n      ...  \\\n0     ...   \n1     ...   \n2     ...   \n3     ...   \n4     ...   \n...   ...   \n1135  ...   \n1136  ...   \n1137  ...   \n1138  ...   \n1139  ...   \n\n      ((((V1_zscore/V4)*(V1_cos-(V1+V2)))*(V1_adde-V4_sin))*((V3+V4)_mmnorm/(V4_sin+V2)))  \\\n0                                              0.169526                                     \n1                                              0.010125                                     \n2                                             -0.123581                                     \n3                                             -0.035854                                     \n4                                              0.022457                                     \n...                                                 ...                                     \n1135                                           0.009620                                     \n1136                                           0.019292                                     \n1137                                           0.077248                                     \n1138                                           0.000000                                     \n1139                                           0.036920                                     \n\n      ((((V2/V4)_tanh/V1_zscore)/(V4_sin_square*(V4_radian/V3)))*((V1*V3)_cos*V1_radian_rbfFeature))  \\\n0                                          6.357010e+03                                                \n1                                         -8.112723e+01                                                \n2                                          6.224111e+02                                                \n3                                          1.041687e+01                                                \n4                                         -1.642660e+02                                                \n...                                                 ...                                                \n1135                                      -1.340591e+01                                                \n1136                                       2.956594e+02                                                \n1137                                       2.863192e+01                                                \n1138                                      -9.155592e+02                                                \n1139                                       2.185065e+06                                                \n\n      ((((V1*V4)_cos*V1_radian_rbfFeature)/(V1_cos-(V1+V2)))*(((V1_zscore/V4)*(V1_cos-(V1+V2)))+(V1_sigmoid/V4_sigmoid)))  \\\n0                                              0.062348                                                                     \n1                                             -0.020793                                                                     \n2                                             -0.001239                                                                     \n3                                              0.000009                                                                     \n4                                             -0.001633                                                                     \n...                                                 ...                                                                     \n1135                                           0.006428                                                                     \n1136                                           0.002045                                                                     \n1137                                           0.005684                                                                     \n1138                                          -0.098813                                                                     \n1139                                           0.021972                                                                     \n\n      (((V2/V4)_tanh_rbfFeature*((V1*V4)-V2))*(V1_degree+V4_sin))  \\\n0                                            192.623810             \n1                                           3495.406500             \n2                                         -16985.432000             \n3                                          20866.803000             \n4                                            700.579160             \n...                                                 ...             \n1135                                        -531.313350             \n1136                                         605.253200             \n1137                                          23.632034             \n1138                                          -2.359354             \n1139                                         297.962520             \n\n      (((V4_rbfFeature_rbfFeature-(V1_zscore/V3))-((V1*V4)_cos*V1_radian_rbfFeature))*(V4_zscore+(V2-V4))_rbfFeature)  \\\n0                                             -0.011033                                                                 \n1                                             -0.005743                                                                 \n2                                              0.011966                                                                 \n3                                              0.014207                                                                 \n4                                             -0.013709                                                                 \n...                                                 ...                                                                 \n1135                                           0.005050                                                                 \n1136                                          -0.004567                                                                 \n1137                                           0.003777                                                                 \n1138                                          -0.004741                                                                 \n1139                                           0.010401                                                                 \n\n      ((((V1*V4)_cos*V1_radian_rbfFeature)/(V1_degree+V4))*((V3_ln-V4_zscore)*(V1_adde+V3_ln)))  \\\n0                                             -0.116009                                           \n1                                              0.070758                                           \n2                                              0.012017                                           \n3                                              0.000144                                           \n4                                              0.003057                                           \n...                                                 ...                                           \n1135                                          -0.025680                                           \n1136                                          -0.014827                                           \n1137                                          -0.017323                                           \n1138                                           0.083781                                           \n1139                                          -0.142888                                           \n\n      ((((V1-V2)_rbfFeature/(V1_radian+V4_rbfFeature))-V4_sin_square)*((V1_relu/(V2/V4))/(V1_recip-V4_sin)))  \\\n0                                             -0.008308                                                        \n1                                             -7.661364                                                        \n2                                            -11.108239                                                        \n3                                            -88.113655                                                        \n4                                              1.038292                                                        \n...                                                 ...                                                        \n1135                                         -15.443872                                                        \n1136                                          -4.326863                                                        \n1137                                          -3.453425                                                        \n1138                                          -0.994150                                                        \n1139                                          -0.770667                                                        \n\n      ((((V3*V4)_cos*(V4_rbfFeature*V2))+(V4_radian/V4_zscore))*((V1_radian_rbfFeature/((V2/V4)+(V1-V2)))*(V4_sigmoid/(V2/V4))))  \\\n0                                             -0.270633                                                                            \n1                                             -1.020045                                                                            \n2                                             -0.420577                                                                            \n3                                              0.004867                                                                            \n4                                              0.075904                                                                            \n...                                                 ...                                                                            \n1135                                           2.080180                                                                            \n1136                                           0.232764                                                                            \n1137                                           0.154314                                                                            \n1138                                          -0.100257                                                                            \n1139                                           0.086474                                                                            \n\n      ((((V1+V2)_cos*(V1_sin*V4_zscore))+(((V1+V2)/(V3+V4))*(V1_mmnorm-(V2/V4))))*((V1-V2)_rbfFeature/(V1_radian+V4_rbfFeature)))  \\\n0                                             -0.079550                                                                             \n1                                             -0.001091                                                                             \n2                                             -0.186225                                                                             \n3                                              0.262083                                                                             \n4                                              0.275799                                                                             \n...                                                 ...                                                                             \n1135                                           0.003139                                                                             \n1136                                          -0.041019                                                                             \n1137                                           0.618452                                                                             \n1138                                           0.645749                                                                             \n1139                                           0.001193                                                                             \n\n      Class  \n0         0  \n1         0  \n2         0  \n3         0  \n4         1  \n...     ...  \n1135      1  \n1136      1  \n1137      1  \n1138      1  \n1139      1  \n\n[1140 rows x 131 columns]\n"
     ]
    },
    {
     "output_type": "error",
     "ename": "NameError",
     "evalue": "name 'supp' is not defined",
     "traceback": [
      "\u001b[1;31m---------------------------------------------------------------------------\u001b[0m",
      "\u001b[1;31mNameError\u001b[0m                                 Traceback (most recent call last)",
      "\u001b[1;32m<ipython-input-17-4e538bb51374>\u001b[0m in \u001b[0;36m<module>\u001b[1;34m\u001b[0m\n\u001b[0;32m     17\u001b[0m \u001b[1;31m# selected_features.shape\u001b[0m\u001b[1;33m\u001b[0m\u001b[1;33m\u001b[0m\u001b[1;33m\u001b[0m\u001b[0m\n\u001b[0;32m     18\u001b[0m \u001b[0mX_filtered\u001b[0m \u001b[1;33m=\u001b[0m \u001b[0mboruta_selector\u001b[0m\u001b[1;33m.\u001b[0m\u001b[0mtransform\u001b[0m\u001b[1;33m(\u001b[0m\u001b[0mx\u001b[0m\u001b[1;33m)\u001b[0m\u001b[1;33m\u001b[0m\u001b[1;33m\u001b[0m\u001b[0m\n\u001b[1;32m---> 19\u001b[1;33m \u001b[0mdf\u001b[0m \u001b[1;33m=\u001b[0m \u001b[0mpd\u001b[0m\u001b[1;33m.\u001b[0m\u001b[0mDataFrame\u001b[0m\u001b[1;33m(\u001b[0m\u001b[0mX_filtered\u001b[0m\u001b[1;33m,\u001b[0m \u001b[0mcolumns\u001b[0m\u001b[1;33m=\u001b[0m\u001b[0mdat\u001b[0m\u001b[1;33m.\u001b[0m\u001b[0miloc\u001b[0m\u001b[1;33m[\u001b[0m\u001b[1;33m:\u001b[0m\u001b[1;33m,\u001b[0m \u001b[1;33m:\u001b[0m\u001b[1;33m-\u001b[0m\u001b[1;36m1\u001b[0m\u001b[1;33m]\u001b[0m\u001b[1;33m.\u001b[0m\u001b[0mcolumns\u001b[0m\u001b[1;33m[\u001b[0m\u001b[0msupp\u001b[0m\u001b[1;33m]\u001b[0m\u001b[1;33m,\u001b[0m \u001b[0mindex\u001b[0m\u001b[1;33m=\u001b[0m\u001b[0mdat\u001b[0m\u001b[1;33m.\u001b[0m\u001b[0mindex\u001b[0m\u001b[1;33m)\u001b[0m\u001b[1;33m\u001b[0m\u001b[1;33m\u001b[0m\u001b[0m\n\u001b[0m\u001b[0;32m     20\u001b[0m \u001b[0mdf\u001b[0m\u001b[1;33m[\u001b[0m\u001b[1;34m'target'\u001b[0m\u001b[1;33m]\u001b[0m \u001b[1;33m=\u001b[0m \u001b[0mdat\u001b[0m\u001b[1;33m.\u001b[0m\u001b[0miloc\u001b[0m\u001b[1;33m[\u001b[0m\u001b[1;33m:\u001b[0m\u001b[1;33m,\u001b[0m \u001b[1;33m-\u001b[0m\u001b[1;36m1\u001b[0m\u001b[1;33m]\u001b[0m\u001b[1;33m\u001b[0m\u001b[1;33m\u001b[0m\u001b[0m\n\u001b[0;32m     21\u001b[0m \u001b[0mdf\u001b[0m\u001b[1;33m\u001b[0m\u001b[1;33m\u001b[0m\u001b[0m\n",
      "\u001b[1;31mNameError\u001b[0m: name 'supp' is not defined"
     ]
    }
   ],
   "source": [
    "# dataset = 'data/php0iVrYT.csv'\n",
    "# dat = tcdp.load_data(dataset, art='C')\n",
    "dat = pd.read_csv('result/curr_php0iVrYT.csv')\n",
    "dat.drop(dat.columns[0], axis=1, inplace=True)\n",
    "print(dat)\n",
    "x = dat.iloc[:, :-1].values\n",
    "y = dat.iloc[:, -1].values.ravel()\n",
    "feature_names = dat.columns[:-1]\n",
    "model = RandomForestClassifier(n_jobs=-1, class_weight='balanced', max_depth=5)\n",
    "boruta_selector = BorutaPy(model, n_estimators = 'auto', verbose=0, random_state=1)\n",
    "boruta_selector.fit(x, y)\n",
    "supp = boruta_selector.support_\n",
    "boruta_selector.ranking_\n",
    "# boruta_ranking = boruta_selector.ranking_\n",
    "# boruta_ranking\n",
    "# selected_features = np.array(feature_names)[boruta_ranking <= 10]\n",
    "# selected_features.shape\n",
    "X_filtered = boruta_selector.transform(x)\n",
    "df = pd.DataFrame(X_filtered, columns=dat.iloc[:, :-1].columns[supp], index=dat.index)\n",
    "df['target'] = dat.iloc[:, -1]\n",
    "print(df)"
   ]
  },
  {
   "cell_type": "code",
   "execution_count": null,
   "metadata": {
    "scrolled": true
   },
   "outputs": [],
   "source": [
    "# 导入数据：这里刚读入的数据里都有第一列的一列索引，要把他删除掉\n",
    "cur_dat = pd.read_csv('result/curr_php0iVrYT.csv')\n",
    "cur_dat.drop(cur_dat.columns[0], axis=1, inplace=True)\n",
    "cur_gen = pd.DataFrame(cur_dat.iloc[:, :-1], columns=cur_dat.columns[:-1])\n",
    "print(cur_gen)\n",
    "prev_dat = pd.read_csv('result/prev_php0iVrYT.csv')\n",
    "prev_gen = prev_dat.drop(prev_dat.columns[0], axis=1, inplace=False)\n",
    "prev_gen"
   ]
  },
  {
   "cell_type": "code",
   "execution_count": null,
   "metadata": {},
   "outputs": [],
   "source": [
    "# 通过调用操作符生成子代特征\n",
    "cands_bag = tcd.new_cands(cur_dat, prev_gen)\n",
    "cands_bag = compute(compute(cands_bag)[0])[0]\n",
    "cands_bag"
   ]
  },
  {
   "cell_type": "code",
   "execution_count": null,
   "metadata": {
    "scrolled": true
   },
   "outputs": [],
   "source": [
    "%%time\n",
    "# 2021/1/31改进后完成只用3min 48s\n",
    "# 生成下一代经历了竞争灭绝环境限制的子特征\n",
    "next_g = tcd.getNextGen(cur_gen, prev_gen)\n",
    "next_g.to_csv('test.csv')\n",
    "next_g"
   ]
  },
  {
   "cell_type": "code",
   "execution_count": null,
   "metadata": {
    "scrolled": true
   },
   "outputs": [],
   "source": [
    "# 生成某个计算对应的自带特征\n",
    "lis = []\n",
    "# opr = oprs_list[0].get('kernelapproxrbf')\n",
    "# candidates = delayed(opr()._exec)(cur_gen)\n",
    "opr = oprs_list[1].get('minus')\n",
    "candidates = delayed(opr()._exec)(cur_gen, prev_gen)\n",
    "lis.append(candidates)\n",
    "cands_bag = db.from_sequence(lis, partition_size=None, npartitions=None)\n",
    "# cands_bag = tcd.new_cands(dat, prev_gen=prev_gen)\n",
    "cands_bag = compute(compute(cands_bag)[0])[0]\n",
    "cands_bag"
   ]
  },
  {
   "cell_type": "code",
   "execution_count": null,
   "metadata": {
    "scrolled": true
   },
   "outputs": [],
   "source": [
    "# 调用写好的函数直接生成子特征\n",
    "# cands_lis = tcd.new_cands(cur_dat, prev_gen=prev_gen)\n",
    "\n",
    "cands_bag = []\n",
    "# cands_bag = tcd.new_cands(dat, prev_gen)\n",
    "# print(compute(compute(cands_bag)[0])[0])\n",
    "for oprs in oprs_list:\n",
    "     for opr in oprs.values():\n",
    "          candidates = None\n",
    "          if oprs == oprs_list[0]:\n",
    "               candidates = delayed(opr()._exec)(cur_gen)\n",
    "          elif oprs == oprs_list[1]:\n",
    "               candidates = delayed(opr()._exec)(cur_gen, prev_gen)\n",
    "          cands_bag.append(candidates)\n",
    "          # candidates_list.append(candidates.compute())\n",
    "cands_bag = compute(compute(cands_bag)[0])[0]\n",
    "print(cands_bag)\n",
    "# print(compute(candidates_list)[0])"
   ]
  },
  {
   "cell_type": "code",
   "execution_count": null,
   "metadata": {
    "scrolled": true
   },
   "outputs": [],
   "source": [
    "cands_lis = []\n",
    "for cand in cands_bag:\n",
    "    cand = delayed(tcd.clean_dat)(cand)\n",
    "    cands_lis.append(cand)\n",
    "cands_lis = compute(cands_lis)[0]\n",
    "cands_lis"
   ]
  },
  {
   "cell_type": "code",
   "execution_count": null,
   "metadata": {
    "scrolled": true
   },
   "outputs": [],
   "source": [
    "sorted_lis = []\n",
    "for cand in cands_lis:\n",
    "    if cand.empty:\n",
    "        continue\n",
    "    cand_dat = copy.deepcopy(cand)\n",
    "    cand_dat[cur_dat.columns[-1]] = cur_dat.iloc[:, -1]\n",
    "    sorted_gps = tcd.tribesCompetition(cand_dat)\n",
    "    # tC 返回的结果是delayed格式的\n",
    "    sorted_lis.append(sorted_gps)\n",
    "sorted_lis = compute(sorted_lis)[0]\n",
    "# sorted_lis = compute(compute(sorted_lis)[0])[0]\n",
    "sorted_lis"
   ]
  },
  {
   "cell_type": "code",
   "execution_count": null,
   "metadata": {
    "scrolled": true
   },
   "outputs": [],
   "source": [
    "res_lis = []\n",
    "# for i in range(len(sorted_lis)):\n",
    "for i in range(4):\n",
    "    cand_dat = copy.deepcopy(cands_lis[i-4])\n",
    "    cand_dat[cur_dat.columns[-1]] = cur_dat.iloc[:, -1]\n",
    "    cand_d = delayed(tcd.plunge_eliminate)(cand_dat, sorted_lis[i-4])\n",
    "    res_lis.append(cand_d)\n",
    "res_lis = compute(res_lis)[0]\n",
    "res_lis"
   ]
  },
  {
   "cell_type": "code",
   "execution_count": null,
   "metadata": {
    "scrolled": true
   },
   "outputs": [],
   "source": [
    "# 和上一个cell功能类似,此cell只用于生成某个特定operator下的自带特征\n",
    "res_lis = []\n",
    "cand = cands_lis[-3]\n",
    "cand_dat = copy.deepcopy(cand)\n",
    "cand_dat[cur_dat.columns[-1]] = cur_dat.iloc[:, -1]\n",
    "sorted_gps = tcd.tribesCompetition(cand_dat)\n",
    "# tC 返回的结果是delayed格式的\n",
    "sorted_gps = compute(sorted_gps)[0]\n",
    "cand_d = delayed(tcd.plunge_eliminate)(cand_dat, sorted_gps)\n",
    "res_lis.append(cand_d)\n",
    "\n",
    "res_lis = compute(res_lis)[0]\n",
    "res_lis"
   ]
  },
  {
   "cell_type": "code",
   "execution_count": null,
   "metadata": {},
   "outputs": [],
   "source": [
    "from distributed import progress\n",
    "from sklearn.model_selection import train_test_split\n",
    "from sklearn.metrics import mean_absolute_error, f1_score\n",
    "cand = cands_lis[-4]\n",
    "d = delayed(train_test_split)(cand, cur_dat.iloc[:, -1])\n",
    "X_train, X_test, y_train, y_test = compute(d)[0]\n",
    "s = tcd.eval(X_train, X_test, y_train, y_test)\n",
    "s = s.compute()\n",
    "s"
   ]
  },
  {
   "cell_type": "code",
   "execution_count": null,
   "metadata": {},
   "outputs": [],
   "source": [
    "%%time\n",
    "from sklearn.model_selection import train_test_split\n",
    "\n",
    "# r = delayed(train_test_split)(cand, cur_dat.iloc[:, -1])\n",
    "r = train_test_split(cand, cur_dat.iloc[:, -1])\n",
    "X_train, X_test, y_train, y_test = compute(r)[0]\n",
    "# X_train, X_test, y_train, y_test\n",
    "s = tcd.eval(X_train, X_test, y_train, y_test)[0]\n",
    "compute(s)[0]"
   ]
  },
  {
   "cell_type": "markdown",
   "metadata": {},
   "source": [
    "### 其余一些小的测试"
   ]
  },
  {
   "cell_type": "code",
   "execution_count": null,
   "metadata": {},
   "outputs": [],
   "source": [
    "import numpy as np\n",
    "lis = [0, 1, 2, 3, 4, 5, 6]\n",
    "\n",
    "ind_lis = ()\n",
    "for i in range(7):\n",
    "    if lis[i] % 2:\n",
    "        ind_lis = ind_lis + (i,)\n",
    "lis = np.delete(lis, ind_lis).tolist()\n",
    "lis"
   ]
  },
  {
   "cell_type": "code",
   "execution_count": null,
   "metadata": {},
   "outputs": [],
   "source": [
    "dataset = 'data/php0iVrYT.csv'\n",
    "dat = pd.read_csv(dataset)\n",
    "res = pd.DataFrame()\n",
    "N = 1\n",
    "ddat = dd.from_pandas(dat, npartitions=N)\n",
    "for col in dat.columns:\n",
    "    if (dat[col].values > 0).any():\n",
    "        res[str(col)+ '_abs'] = ddat[col].map(lambda x: x + np.e)\n",
    "res"
   ]
  },
  {
   "cell_type": "code",
   "execution_count": null,
   "metadata": {},
   "outputs": [],
   "source": [
    "@delayed\n",
    "def add(x, y=1):\n",
    "    return x + y\n",
    "\n",
    "b = db.from_sequence(range(6), npartitions=2)\n",
    "b = b.map(add, y=2)\n",
    "b.compute()[0].compute()"
   ]
  },
  {
   "cell_type": "markdown",
   "metadata": {},
   "source": [
    "### Setting up a cluster"
   ]
  },
  {
   "cell_type": "code",
   "execution_count": null,
   "metadata": {},
   "outputs": [],
   "source": [
    "\"\"\"  \"\"\"\n",
    "from dask.distributed import LocalCluster, Client, progress\n",
    "cluster = LocalCluster(n_workers=4, threads_per_worker=2, memory_limit='2GB')\n",
    "client = Client(cluster)\n",
    "# client = Client()\n",
    "client\n",
    "# client.ncores()"
   ]
  },
  {
   "cell_type": "code",
   "execution_count": null,
   "metadata": {},
   "outputs": [],
   "source": [
    "client.shutdown()"
   ]
  },
  {
   "cell_type": "code",
   "execution_count": null,
   "metadata": {},
   "outputs": [],
   "source": [
    "%%time\n",
    "from time import sleep\n",
    "def inc(x):\n",
    "    sleep(1)\n",
    "    return x + 1\n",
    "def add(x, y):\n",
    "    sleep(1)\n",
    "    return x + y\n",
    "# This takes three seconds to run because we call each function sequentially, one after the other\n",
    "x1 = inc(1)\n",
    "y1 = inc(2)\n",
    "z1 = add(x1, y1)\n",
    "z1"
   ]
  },
  {
   "cell_type": "markdown",
   "metadata": {},
   "source": [
    "### Parallelize code with dask.delayed"
   ]
  },
  {
   "cell_type": "code",
   "execution_count": null,
   "metadata": {},
   "outputs": [],
   "source": [
    "%%time\n",
    "from dask import delayed\n",
    "# This runs immediately, all it does is build a graph\n",
    "x = delayed(inc)(1)\n",
    "y = delayed(inc)(2)\n",
    "z = delayed(add)(x, y)\n",
    "# To get the result, call compute. Notice that this runs faster than the original code.\n",
    "z.compute()"
   ]
  },
  {
   "cell_type": "code",
   "execution_count": null,
   "metadata": {},
   "outputs": [],
   "source": [
    "# Look at the task graph for `z`\n",
    "import graphviz\n",
    "z.visualize()\n",
    "# \"dot -c\" to be run in admin mode"
   ]
  },
  {
   "cell_type": "markdown",
   "metadata": {},
   "source": [
    "### Parallelize a for-loop"
   ]
  },
  {
   "cell_type": "code",
   "execution_count": null,
   "metadata": {},
   "outputs": [],
   "source": [
    "%%time\n",
    "results = []\n",
    "data = [1, 2, 3, 4, 5, 6, 7, 8]\n",
    "for x in data:\n",
    "    y = delayed(inc)(x)\n",
    "    results.append(y)\n",
    "total = delayed(sum)(results)\n",
    "print(\"Before computing:\", total) \n",
    "print(\"After computing :\", total.compute())\n",
    "total.visualize()"
   ]
  },
  {
   "cell_type": "code",
   "execution_count": null,
   "metadata": {},
   "outputs": [],
   "source": [
    "import tc_distributed as tcd\n",
    "import dask\n",
    "dataset = 'data/php0iVrYT.csv'\n",
    "dat = tcd.load_data(dataset, art='C')\n",
    "lis = tcd.tribesCompetition(dat)\n",
    "dask.compute(lis)"
   ]
  },
  {
   "cell_type": "code",
   "execution_count": null,
   "metadata": {},
   "outputs": [],
   "source": [
    "from dask import delayed\n",
    "from dask import compute\n",
    "def fun(x):\n",
    "    sums = []\n",
    "    for i in range(x):\n",
    "        sums.append(delayed(lambda n: n+1)(i))\n",
    "    res = delayed(sum)(sums)\n",
    "    return res.compute()\n",
    "r = delayed(fun)(5)\n",
    "# r.compute()\n",
    "r.visualize()"
   ]
  },
  {
   "cell_type": "code",
   "execution_count": null,
   "metadata": {},
   "outputs": [],
   "source": [
    "%%time\n",
    "import dask.bag as db\n",
    "import time\n",
    "@delayed\n",
    "def add(x, y):\n",
    "    time.sleep(1)\n",
    "    return x+y\n",
    "lis = []\n",
    "for i in range(3):\n",
    "    cand = delayed(lambda x, y: add(x, y))(i+1, i+2)\n",
    "    lis.append(cand)\n",
    "print(lis)\n",
    "# type(compute(lis))\n",
    "b = db.from_sequence(lis)\n",
    "# b = compute(compute(b)[0])[0]\n",
    "b = compute(compute(compute(b)[0])[0])[0]\n",
    "b\n",
    "# type(b)\n",
    "# lis = compute(lis)[0]\n",
    "# lis"
   ]
  },
  {
   "cell_type": "code",
   "execution_count": null,
   "metadata": {},
   "outputs": [],
   "source": [
    "%%time\n",
    "import time\n",
    "def add(x, y):\n",
    "    time.sleep(1)\n",
    "    return x+y\n",
    "lis = []\n",
    "for i in range(3):\n",
    "    lis.append(add(i+1, i+2))\n",
    "lis"
   ]
  },
  {
   "cell_type": "code",
   "execution_count": null,
   "metadata": {},
   "outputs": [],
   "source": [
    "import pandas as pd\n",
    "import numpy as np\n",
    "from dask import compute, delayed\n",
    "import tc_distributed as tcd\n",
    "import dask.bag as db\n",
    "\n",
    "dataset = 'data/php0iVrYT.csv'\n",
    "dat = pd.read_csv(dataset)\n",
    "print(dat)\n",
    "seq = []\n",
    "# res = pd.DataFrame()\n",
    "d = []\n",
    "for col in dat.columns:\n",
    "    seq.append(str(col)+'_abs')\n",
    "    d.append(delayed()(-dat[col]))\n",
    "d = compute(d)[0]\n",
    "d = np.transpose(np.array(d, dtype='float32'))\n",
    "res = pd.DataFrame(d, columns=seq)\n",
    "res\n",
    "# for i in range(len(seq)):\n",
    "#     res[str(seq[i])+ '_abs'] = res_lis[i]\n",
    "\n",
    "# b = db.from_sequence(dat_lis)\n",
    "# b = b.map(abs)\n",
    "# b.compute()"
   ]
  },
  {
   "cell_type": "code",
   "execution_count": null,
   "metadata": {},
   "outputs": [],
   "source": [
    "\"\"\" Often we want to delay only some functions, running a few of them immediately. \n",
    "    To delay or not to delay, is usually where we need to be thoughtful when using dask.delayed \"\"\"\n",
    "# %%time\n",
    "def inc(x):\n",
    "    sleep(1)\n",
    "    return x + 1, 1\n",
    "\n",
    "def double(x):\n",
    "    sleep(1)\n",
    "    return 2 * x\n",
    "\n",
    "def is_even(x):\n",
    "    return not x % 2\n",
    "data = [1, 2, 3, 4, 5, 6, 7, 8, 9, 10]\n",
    "res = []\n",
    "for i in range(2):\n",
    "    for x in data:\n",
    "        if is_even(x):\n",
    "            y = delayed(double)(x)\n",
    "        else:\n",
    "            # continue\n",
    "            y = delayed(inc)(x)[0]\n",
    "        res.append(y)\n",
    "total = delayed(sum)(res)\n",
    "total2 = total / 5\n",
    "%time total2.compute()\n",
    "total2.visualize()"
   ]
  },
  {
   "cell_type": "code",
   "execution_count": null,
   "metadata": {},
   "outputs": [],
   "source": [
    "from dask import delayed\n",
    "from dask import compute   #  When having multiple outputs, use the dask.compute\n",
    "x = delayed(np.arange)(10)\n",
    "y = x ** 2\n",
    "min_, max_ = compute(y.min(), y.max())\n",
    "min_, max_"
   ]
  },
  {
   "cell_type": "code",
   "execution_count": null,
   "metadata": {},
   "outputs": [],
   "source": [
    "%%time\n",
    "dataset = 'data/php0iVrYT.csv'\n",
    "df = delayed(pd.read_csv)(dataset)\n",
    "sums = []\n",
    "counts = []\n",
    "\n",
    "by_class = df.groupby('Class')\n",
    "total = by_class.V1.sum()\n",
    "count = by_class.V1.count()\n",
    "sums.append(total)\n",
    "counts.append(count)\n",
    "sums, counts = compute(sums, counts)\n",
    "total_delays = sum(sums)\n",
    "n_flights = sum(counts)\n",
    "mean = total_delays / n_flights\n",
    "mean"
   ]
  },
  {
   "cell_type": "markdown",
   "metadata": {},
   "source": [
    "### 用装饰器完成delayed功能"
   ]
  },
  {
   "cell_type": "code",
   "execution_count": null,
   "metadata": {},
   "outputs": [],
   "source": [
    "from dask import delayed\n",
    "@delayed\n",
    "def inc(x):\n",
    "    return x + 1\n",
    "@delayed\n",
    "def add(x, y):\n",
    "    return x + y\n",
    "\n",
    "x = inc(15)\n",
    "y = inc(30)\n",
    "total = add(x, y)\n",
    "print(\"total: \", total.compute())\n",
    "# total.visualize()\n",
    "dict(total.dask)"
   ]
  },
  {
   "cell_type": "markdown",
   "metadata": {},
   "source": [
    "### Dask Distributed, Advanced"
   ]
  },
  {
   "cell_type": "code",
   "execution_count": null,
   "metadata": {},
   "outputs": [],
   "source": [
    "def inc(x):\n",
    "    return x + 1\n",
    "# fut = client.submit(inc)\n",
    "fut = client.submit(inc, 1)\n",
    "fut"
   ]
  },
  {
   "cell_type": "code",
   "execution_count": null,
   "metadata": {},
   "outputs": [],
   "source": [
    "fut"
   ]
  },
  {
   "cell_type": "code",
   "execution_count": null,
   "metadata": {},
   "outputs": [],
   "source": [
    "from dask.distributed import wait, progress\n",
    "progress(fut)\n",
    "wait(fut)"
   ]
  },
  {
   "cell_type": "code",
   "execution_count": null,
   "metadata": {},
   "outputs": [],
   "source": [
    "# grab the information back - this blocks if fut is not ready\n",
    "client.gather(fut)\n",
    "# equivalent action when only considering a single future\n",
    "# fut.result()"
   ]
  },
  {
   "cell_type": "code",
   "execution_count": null,
   "metadata": {},
   "outputs": [],
   "source": [
    "\"\"\" Here we see an alternative way to execute work on the cluster: when you submit or map with the inputs as futures, the computation moves to the data rather than the other way around, and the client, in the local Python session, need never see the intermediate values. This is similar to building the graph using delayed, and indeed, delayed can be used in conjunction with futures. \"\"\"\n",
    "# Some trivial work that takes time\n",
    "# repeated from the Distributed chapter.\n",
    "\n",
    "from dask import delayed\n",
    "import time\n",
    "\n",
    "def inc(x):\n",
    "    time.sleep(5)\n",
    "    return x + 1\n",
    "\n",
    "def dec(x):\n",
    "    time.sleep(3)\n",
    "    return x - 1\n",
    "\n",
    "def add(x, y):\n",
    "    time.sleep(7)\n",
    "    return x + y"
   ]
  },
  {
   "cell_type": "code",
   "execution_count": null,
   "metadata": {},
   "outputs": [],
   "source": [
    "x = delayed(inc)(1)\n",
    "y = delayed(dec)(2)\n",
    "total = delayed(add)(x, y)\n",
    "# notice the difference from total.compute()\n",
    "# notice that this cell completes immediately\n",
    "fut = client.compute(total)\n",
    "fut"
   ]
  },
  {
   "cell_type": "code",
   "execution_count": null,
   "metadata": {},
   "outputs": [],
   "source": [
    "client.gather(fut) # waits until result is ready"
   ]
  },
  {
   "cell_type": "code",
   "execution_count": null,
   "metadata": {},
   "outputs": [],
   "source": [
    "x = client.submit(inc, 1)\n",
    "y = client.submit(dec, 2)\n",
    "total = client.submit(add, x, y)\n",
    "\n",
    "print(total)     # This is still a future\n",
    "total = client.persist(total)\n",
    "client.gather(total)   # This blocks until the computation has finished"
   ]
  },
  {
   "cell_type": "markdown",
   "metadata": {},
   "source": [
    "### background execution"
   ]
  },
  {
   "cell_type": "code",
   "execution_count": null,
   "metadata": {},
   "outputs": [],
   "source": [
    "def add(x, y):\n",
    "    return x + y\n",
    "\n",
    "# Sometimes we defer computations with strings\n",
    "x = 15\n",
    "y = 30\n",
    "z = \"add(x, y)\"\n",
    "eval(z)\n",
    "\n"
   ]
  },
  {
   "cell_type": "code",
   "execution_count": null,
   "metadata": {},
   "outputs": [],
   "source": [
    "def gen():\n",
    "    res = 20\n",
    "    yield res\n",
    "    res += y\n",
    "    yield res\n",
    "\n",
    "next(gen())"
   ]
  },
  {
   "cell_type": "markdown",
   "metadata": {},
   "source": [
    "### dask.bag = map, filter, toolz + parallel execute"
   ]
  },
  {
   "cell_type": "code",
   "execution_count": null,
   "metadata": {},
   "outputs": [],
   "source": [
    "import dask.bag as db\n",
    "b = db.from_sequence([1, 2, 3, 4, 5, 6, 7, 8, 9, 10], npartitions=2)\n",
    "b.take(10)"
   ]
  },
  {
   "cell_type": "code",
   "execution_count": null,
   "metadata": {},
   "outputs": [],
   "source": [
    "\"\"\" dask.bag manipulation \"\"\"\n",
    "def is_even(n):\n",
    "    return n % 2 == 0\n",
    "\n",
    "b = db.from_sequence([1, 2, 3, 4, 5, 6, 7, 8, 9, 10])\n",
    "# Operations on Bag objects create new bags.\n",
    "c = b.filter(is_even).map(lambda x: x ** 2)\n",
    "c\n",
    "\"\"\" Call the .compute() method to trigger execution, as we saw for Delayed objects. \"\"\"\n",
    "c.compute()"
   ]
  },
  {
   "cell_type": "code",
   "execution_count": null,
   "metadata": {},
   "outputs": [],
   "source": [
    "b = db.from_sequence(['Alice', 'Bob', 'Charlie', 'Dan', 'Edith', 'Frank'])\n",
    "b.groupby(len).compute()  # names grouped by length"
   ]
  },
  {
   "cell_type": "code",
   "execution_count": null,
   "metadata": {},
   "outputs": [],
   "source": [
    "b = db.from_sequence(list(range(10)))\n",
    "b.groupby(lambda x: x % 2).compute()\n"
   ]
  },
  {
   "cell_type": "code",
   "execution_count": null,
   "metadata": {},
   "outputs": [],
   "source": [
    "# 同样功能\n",
    "b.groupby(lambda x: x % 2).starmap(lambda k, v: (k, max(v))).compute()\n",
    "b.foldby(lambda x: x % 2, binop=max, combine=max).compute()"
   ]
  },
  {
   "cell_type": "markdown",
   "metadata": {},
   "source": [
    "### dask.array"
   ]
  },
  {
   "cell_type": "code",
   "execution_count": null,
   "metadata": {},
   "outputs": [],
   "source": [
    "\n",
    "x = da.random.normal(10, 0.1, size=(20000, 20000),   # 400 million element array \n",
    "                              chunks=(1000, 1000))   # Cut into 1000x1000 sized chunks\n",
    "x"
   ]
  },
  {
   "cell_type": "code",
   "execution_count": null,
   "metadata": {},
   "outputs": [],
   "source": [
    "y = x.mean(axis=0)[::100]\n",
    "print(x.nbytes/1e9, 'Gigabytes of the input processed lazily')\n",
    "# y\n",
    "%time y.compute()     # Time to compute the result\n",
    "\"\"\" Notice that the Dask array computation ran in 4 seconds, but used 29.4 seconds of user CPU time. \n",
    "    The numpy computation ran in 19.7 seconds and used 19.6 seconds of user CPU time.\n",
    "    Dask finished faster, but used more total CPU time \n",
    "    because Dask was able to transparently parallelize the computation because of the chunk size. \n",
    "\"\"\""
   ]
  },
  {
   "cell_type": "code",
   "execution_count": null,
   "metadata": {},
   "outputs": [],
   "source": [
    "dataset = 'data/php0iVrYT.csv'\n",
    "df = pd.read_csv(dataset)\n",
    "a = [da.from_array(df[col], chunks=(374,)) for col in df.columns]\n",
    "a"
   ]
  },
  {
   "cell_type": "code",
   "execution_count": null,
   "metadata": {},
   "outputs": [],
   "source": [
    "ddf = dd.read_csv(dataset)\n",
    "col = df.columns[0]\n",
    "# ddf.V1.nunique().compute()\n",
    "ddf[col].nunique().compute()"
   ]
  },
  {
   "cell_type": "code",
   "execution_count": null,
   "metadata": {},
   "outputs": [],
   "source": [
    "\"\"\" Stack this list of dask.array objects into a single dask.array object with da.stack \"\"\"\n",
    "aa = da.stack(a)\n",
    "aa"
   ]
  },
  {
   "cell_type": "markdown",
   "metadata": {},
   "source": [
    "### dask.dataframe"
   ]
  },
  {
   "cell_type": "code",
   "execution_count": null,
   "metadata": {},
   "outputs": [],
   "source": [
    "dataset = 'data/php0iVrYT.csv'\n",
    "ddf = dd.read_csv(dataset)\n",
    "print(ddf)\n",
    "ddf.head()"
   ]
  },
  {
   "cell_type": "code",
   "execution_count": null,
   "metadata": {},
   "outputs": [],
   "source": [
    "\"\"\" Web Interface \"\"\"\n",
    "ddf = client.persist(ddf)\n",
    "progress(ddf)\n",
    "\n",
    "print(len(ddf))\n",
    "ddf.count().compute()"
   ]
  },
  {
   "cell_type": "code",
   "execution_count": null,
   "metadata": {},
   "outputs": [],
   "source": [
    "print((ddf.V1 == 0).sum().compute())\n",
    "print(ddf.V1.sum().compute())\n",
    "ddf.V1.mean().compute()"
   ]
  },
  {
   "cell_type": "code",
   "execution_count": null,
   "metadata": {},
   "outputs": [],
   "source": [
    "ddf.groupby('Class').V1.mean().compute()"
   ]
  },
  {
   "cell_type": "code",
   "execution_count": null,
   "metadata": {},
   "outputs": [],
   "source": [
    "b = db.from_sequence(['Alice', 'Bob', 'Charlie', 'Dan', 'Edith', 'Frank'])\n",
    "b.groupby(len).compute()"
   ]
  },
  {
   "cell_type": "code",
   "execution_count": null,
   "metadata": {},
   "outputs": [],
   "source": [
    "b = db.from_sequence(list(range(10)))\n",
    "b.groupby(lambda x: x % 2).compute()"
   ]
  },
  {
   "cell_type": "code",
   "execution_count": null,
   "metadata": {},
   "outputs": [],
   "source": [
    "print(ddf.info())\n",
    "sub_V2 = ddf[ddf.V2 >= 25]\n",
    "sub_V2.shape[0].compute()"
   ]
  },
  {
   "cell_type": "code",
   "execution_count": null,
   "metadata": {},
   "outputs": [],
   "source": [
    "cols = ['V1', 'V3', 'Class']\n",
    "new_ddf = ddf[cols]\n",
    "new_ddf = client.persist(new_ddf)\n",
    "progress(new_ddf)\n",
    "new_ddf.head()"
   ]
  },
  {
   "cell_type": "code",
   "execution_count": null,
   "metadata": {},
   "outputs": [],
   "source": [
    "import multiprocessing\n",
    "cpu_count()"
   ]
  },
  {
   "cell_type": "code",
   "execution_count": null,
   "metadata": {},
   "outputs": [],
   "source": [
    "dataset = 'data/php0iVrYT.csv'\n",
    "df = pd.read_csv(dataset)\n",
    "a = [da.from_array(df[col], chunks=(374,)) for col in df.columns]\n",
    "\"\"\" Stack this list of dask.array objects into a single dask.array object with da.stack \"\"\"\n",
    "aa = da.stack(a)\n",
    "print(aa)"
   ]
  },
  {
   "cell_type": "code",
   "execution_count": null,
   "metadata": {},
   "outputs": [],
   "source": [
    "N = 5\n",
    "ddf = dd.from_pandas(df, npartitions=N)\n",
    "\"\"\" Subset dask dataframe by column position \"\"\"\n",
    "cols = list(df.columns[2:4])\n",
    "ddf[cols].compute()"
   ]
  }
 ],
 "metadata": {
  "kernelspec": {
   "name": "python3",
   "display_name": "Python 3.7.8 64-bit",
   "metadata": {
    "interpreter": {
     "hash": "363df266ed0c37ae0591ebb47ff23cc623879955e46c8735a7069950da10fb5c"
    }
   }
  },
  "language_info": {
   "codemirror_mode": {
    "name": "ipython",
    "version": 3
   },
   "file_extension": ".py",
   "mimetype": "text/x-python",
   "name": "python",
   "nbconvert_exporter": "python",
   "pygments_lexer": "ipython3",
   "version": "3.7.8-final"
  },
  "toc-autonumbering": false,
  "toc-showcode": false,
  "toc-showmarkdowntxt": true
 },
 "nbformat": 4,
 "nbformat_minor": 4
}